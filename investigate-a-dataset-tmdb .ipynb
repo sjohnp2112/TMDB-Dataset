{
 "cells": [
  {
   "cell_type": "markdown",
   "metadata": {},
   "source": [
    "# Investigate a Dataset: The TMDb Movies Dataset\n",
    "\n",
    "## Table of Contents\n",
    "<ul>\n",
    "<li><a href=\"#intro\">Introduction</a></li>\n",
    "<li><a href=\"#wrangling\">Data Wrangling</a></li>\n",
    "<li><a href=\"#eda\">Exploratory Data Analysis</a></li>\n",
    "<li><a href=\"#conclusions\">Conclusions</a></li>\n",
    "</ul>"
   ]
  },
  {
   "cell_type": "markdown",
   "metadata": {},
   "source": [
    "<h3><strong>Introduction:</strong></h3>\n",
    "\n",
    "I'll be exploring the TMDb movies dataset containing data on 10,000 movies including user ratings, actors and directors, genre, budget and box office revenue. This dataset has 21 columns, describing numeric and non-numeric data. We'll proceed through a series of steps that will drill down and examine\n",
    "variables such as popularity, revenue, and budget and to get a better picture of the relationships between these variables. In our analysis we'll be using the adjusted budget and adjusted revenue to account for inflation."
   ]
  },
  {
   "cell_type": "markdown",
   "metadata": {},
   "source": [
    "<strong>Preliminary questions for our investigation:</strong> is there a relationship or correlation between the popularity score and the production budget? What aboutDoes the lead actor or director have an effect on the popularity score? Which films were most popular in the last 20 years?\n",
    "\n",
    "To begin our investigation we'll load some packages below."
   ]
  },
  {
   "cell_type": "code",
   "execution_count": 275,
   "metadata": {},
   "outputs": [],
   "source": [
    "# importing packages\n",
    "import pandas as pd\n",
    "import numpy as np\n",
    "import matplotlib.pyplot as plt\n",
    "import seaborn as sns\n",
    "%matplotlib inline"
   ]
  },
  {
   "cell_type": "markdown",
   "metadata": {},
   "source": [
    "The packages we just imported unlocks a variety of robust features that will help us perform our analysis."
   ]
  },
  {
   "cell_type": "code",
   "execution_count": 276,
   "metadata": {},
   "outputs": [],
   "source": [
    "# Upgrade pandas to use dataframe.explode() function. \n",
    "\n",
    "#pip install --upgrade pandas==0.25.0\n",
    "#!pip install nbconvert"
   ]
  },
  {
   "cell_type": "markdown",
   "metadata": {},
   "source": [
    "<a id='wrangling'></a>\n",
    "## Data Wrangling\n",
    "\n",
    "### General Properties"
   ]
  },
  {
   "cell_type": "code",
   "execution_count": 277,
   "metadata": {
    "scrolled": true
   },
   "outputs": [
    {
     "data": {
      "text/html": [
       "<div>\n",
       "<style scoped>\n",
       "    .dataframe tbody tr th:only-of-type {\n",
       "        vertical-align: middle;\n",
       "    }\n",
       "\n",
       "    .dataframe tbody tr th {\n",
       "        vertical-align: top;\n",
       "    }\n",
       "\n",
       "    .dataframe thead th {\n",
       "        text-align: right;\n",
       "    }\n",
       "</style>\n",
       "<table border=\"1\" class=\"dataframe\">\n",
       "  <thead>\n",
       "    <tr style=\"text-align: right;\">\n",
       "      <th></th>\n",
       "      <th>id</th>\n",
       "      <th>imdb_id</th>\n",
       "      <th>popularity</th>\n",
       "      <th>budget</th>\n",
       "      <th>revenue</th>\n",
       "      <th>original_title</th>\n",
       "      <th>cast</th>\n",
       "      <th>homepage</th>\n",
       "      <th>director</th>\n",
       "      <th>tagline</th>\n",
       "      <th>...</th>\n",
       "      <th>overview</th>\n",
       "      <th>runtime</th>\n",
       "      <th>genres</th>\n",
       "      <th>production_companies</th>\n",
       "      <th>release_date</th>\n",
       "      <th>vote_count</th>\n",
       "      <th>vote_average</th>\n",
       "      <th>release_year</th>\n",
       "      <th>budget_adj</th>\n",
       "      <th>revenue_adj</th>\n",
       "    </tr>\n",
       "  </thead>\n",
       "  <tbody>\n",
       "    <tr>\n",
       "      <th>0</th>\n",
       "      <td>135397</td>\n",
       "      <td>tt0369610</td>\n",
       "      <td>32.985763</td>\n",
       "      <td>150000000</td>\n",
       "      <td>1513528810</td>\n",
       "      <td>Jurassic World</td>\n",
       "      <td>Chris Pratt|Bryce Dallas Howard|Irrfan Khan|Vi...</td>\n",
       "      <td>http://www.jurassicworld.com/</td>\n",
       "      <td>Colin Trevorrow</td>\n",
       "      <td>The park is open.</td>\n",
       "      <td>...</td>\n",
       "      <td>Twenty-two years after the events of Jurassic ...</td>\n",
       "      <td>124</td>\n",
       "      <td>Action|Adventure|Science Fiction|Thriller</td>\n",
       "      <td>Universal Studios|Amblin Entertainment|Legenda...</td>\n",
       "      <td>6/9/15</td>\n",
       "      <td>5562</td>\n",
       "      <td>6.5</td>\n",
       "      <td>2015</td>\n",
       "      <td>1.379999e+08</td>\n",
       "      <td>1.392446e+09</td>\n",
       "    </tr>\n",
       "    <tr>\n",
       "      <th>1</th>\n",
       "      <td>76341</td>\n",
       "      <td>tt1392190</td>\n",
       "      <td>28.419936</td>\n",
       "      <td>150000000</td>\n",
       "      <td>378436354</td>\n",
       "      <td>Mad Max: Fury Road</td>\n",
       "      <td>Tom Hardy|Charlize Theron|Hugh Keays-Byrne|Nic...</td>\n",
       "      <td>http://www.madmaxmovie.com/</td>\n",
       "      <td>George Miller</td>\n",
       "      <td>What a Lovely Day.</td>\n",
       "      <td>...</td>\n",
       "      <td>An apocalyptic story set in the furthest reach...</td>\n",
       "      <td>120</td>\n",
       "      <td>Action|Adventure|Science Fiction|Thriller</td>\n",
       "      <td>Village Roadshow Pictures|Kennedy Miller Produ...</td>\n",
       "      <td>5/13/15</td>\n",
       "      <td>6185</td>\n",
       "      <td>7.1</td>\n",
       "      <td>2015</td>\n",
       "      <td>1.379999e+08</td>\n",
       "      <td>3.481613e+08</td>\n",
       "    </tr>\n",
       "    <tr>\n",
       "      <th>2</th>\n",
       "      <td>262500</td>\n",
       "      <td>tt2908446</td>\n",
       "      <td>13.112507</td>\n",
       "      <td>110000000</td>\n",
       "      <td>295238201</td>\n",
       "      <td>Insurgent</td>\n",
       "      <td>Shailene Woodley|Theo James|Kate Winslet|Ansel...</td>\n",
       "      <td>http://www.thedivergentseries.movie/#insurgent</td>\n",
       "      <td>Robert Schwentke</td>\n",
       "      <td>One Choice Can Destroy You</td>\n",
       "      <td>...</td>\n",
       "      <td>Beatrice Prior must confront her inner demons ...</td>\n",
       "      <td>119</td>\n",
       "      <td>Adventure|Science Fiction|Thriller</td>\n",
       "      <td>Summit Entertainment|Mandeville Films|Red Wago...</td>\n",
       "      <td>3/18/15</td>\n",
       "      <td>2480</td>\n",
       "      <td>6.3</td>\n",
       "      <td>2015</td>\n",
       "      <td>1.012000e+08</td>\n",
       "      <td>2.716190e+08</td>\n",
       "    </tr>\n",
       "    <tr>\n",
       "      <th>3</th>\n",
       "      <td>140607</td>\n",
       "      <td>tt2488496</td>\n",
       "      <td>11.173104</td>\n",
       "      <td>200000000</td>\n",
       "      <td>2068178225</td>\n",
       "      <td>Star Wars: The Force Awakens</td>\n",
       "      <td>Harrison Ford|Mark Hamill|Carrie Fisher|Adam D...</td>\n",
       "      <td>http://www.starwars.com/films/star-wars-episod...</td>\n",
       "      <td>J.J. Abrams</td>\n",
       "      <td>Every generation has a story.</td>\n",
       "      <td>...</td>\n",
       "      <td>Thirty years after defeating the Galactic Empi...</td>\n",
       "      <td>136</td>\n",
       "      <td>Action|Adventure|Science Fiction|Fantasy</td>\n",
       "      <td>Lucasfilm|Truenorth Productions|Bad Robot</td>\n",
       "      <td>12/15/15</td>\n",
       "      <td>5292</td>\n",
       "      <td>7.5</td>\n",
       "      <td>2015</td>\n",
       "      <td>1.839999e+08</td>\n",
       "      <td>1.902723e+09</td>\n",
       "    </tr>\n",
       "    <tr>\n",
       "      <th>4</th>\n",
       "      <td>168259</td>\n",
       "      <td>tt2820852</td>\n",
       "      <td>9.335014</td>\n",
       "      <td>190000000</td>\n",
       "      <td>1506249360</td>\n",
       "      <td>Furious 7</td>\n",
       "      <td>Vin Diesel|Paul Walker|Jason Statham|Michelle ...</td>\n",
       "      <td>http://www.furious7.com/</td>\n",
       "      <td>James Wan</td>\n",
       "      <td>Vengeance Hits Home</td>\n",
       "      <td>...</td>\n",
       "      <td>Deckard Shaw seeks revenge against Dominic Tor...</td>\n",
       "      <td>137</td>\n",
       "      <td>Action|Crime|Thriller</td>\n",
       "      <td>Universal Pictures|Original Film|Media Rights ...</td>\n",
       "      <td>4/1/15</td>\n",
       "      <td>2947</td>\n",
       "      <td>7.3</td>\n",
       "      <td>2015</td>\n",
       "      <td>1.747999e+08</td>\n",
       "      <td>1.385749e+09</td>\n",
       "    </tr>\n",
       "  </tbody>\n",
       "</table>\n",
       "<p>5 rows × 21 columns</p>\n",
       "</div>"
      ],
      "text/plain": [
       "       id    imdb_id  popularity     budget     revenue  \\\n",
       "0  135397  tt0369610   32.985763  150000000  1513528810   \n",
       "1   76341  tt1392190   28.419936  150000000   378436354   \n",
       "2  262500  tt2908446   13.112507  110000000   295238201   \n",
       "3  140607  tt2488496   11.173104  200000000  2068178225   \n",
       "4  168259  tt2820852    9.335014  190000000  1506249360   \n",
       "\n",
       "                 original_title  \\\n",
       "0                Jurassic World   \n",
       "1            Mad Max: Fury Road   \n",
       "2                     Insurgent   \n",
       "3  Star Wars: The Force Awakens   \n",
       "4                     Furious 7   \n",
       "\n",
       "                                                cast  \\\n",
       "0  Chris Pratt|Bryce Dallas Howard|Irrfan Khan|Vi...   \n",
       "1  Tom Hardy|Charlize Theron|Hugh Keays-Byrne|Nic...   \n",
       "2  Shailene Woodley|Theo James|Kate Winslet|Ansel...   \n",
       "3  Harrison Ford|Mark Hamill|Carrie Fisher|Adam D...   \n",
       "4  Vin Diesel|Paul Walker|Jason Statham|Michelle ...   \n",
       "\n",
       "                                            homepage          director  \\\n",
       "0                      http://www.jurassicworld.com/   Colin Trevorrow   \n",
       "1                        http://www.madmaxmovie.com/     George Miller   \n",
       "2     http://www.thedivergentseries.movie/#insurgent  Robert Schwentke   \n",
       "3  http://www.starwars.com/films/star-wars-episod...       J.J. Abrams   \n",
       "4                           http://www.furious7.com/         James Wan   \n",
       "\n",
       "                         tagline  ...  \\\n",
       "0              The park is open.  ...   \n",
       "1             What a Lovely Day.  ...   \n",
       "2     One Choice Can Destroy You  ...   \n",
       "3  Every generation has a story.  ...   \n",
       "4            Vengeance Hits Home  ...   \n",
       "\n",
       "                                            overview runtime  \\\n",
       "0  Twenty-two years after the events of Jurassic ...     124   \n",
       "1  An apocalyptic story set in the furthest reach...     120   \n",
       "2  Beatrice Prior must confront her inner demons ...     119   \n",
       "3  Thirty years after defeating the Galactic Empi...     136   \n",
       "4  Deckard Shaw seeks revenge against Dominic Tor...     137   \n",
       "\n",
       "                                      genres  \\\n",
       "0  Action|Adventure|Science Fiction|Thriller   \n",
       "1  Action|Adventure|Science Fiction|Thriller   \n",
       "2         Adventure|Science Fiction|Thriller   \n",
       "3   Action|Adventure|Science Fiction|Fantasy   \n",
       "4                      Action|Crime|Thriller   \n",
       "\n",
       "                                production_companies release_date vote_count  \\\n",
       "0  Universal Studios|Amblin Entertainment|Legenda...       6/9/15       5562   \n",
       "1  Village Roadshow Pictures|Kennedy Miller Produ...      5/13/15       6185   \n",
       "2  Summit Entertainment|Mandeville Films|Red Wago...      3/18/15       2480   \n",
       "3          Lucasfilm|Truenorth Productions|Bad Robot     12/15/15       5292   \n",
       "4  Universal Pictures|Original Film|Media Rights ...       4/1/15       2947   \n",
       "\n",
       "   vote_average  release_year    budget_adj   revenue_adj  \n",
       "0           6.5          2015  1.379999e+08  1.392446e+09  \n",
       "1           7.1          2015  1.379999e+08  3.481613e+08  \n",
       "2           6.3          2015  1.012000e+08  2.716190e+08  \n",
       "3           7.5          2015  1.839999e+08  1.902723e+09  \n",
       "4           7.3          2015  1.747999e+08  1.385749e+09  \n",
       "\n",
       "[5 rows x 21 columns]"
      ]
     },
     "execution_count": 277,
     "metadata": {},
     "output_type": "execute_result"
    }
   ],
   "source": [
    "# Loading our data and printing out a few lines. Create our first dataframe.\n",
    "\n",
    "df_tmdb = pd.read_csv(r\"C:\\Users\\sjohn\\anaconda3\\envs\\my_env\\Investigate A Dataset\\tmdb-movies.csv\")\n",
    "df_tmdb.head()\n",
    "#df_tmdb.info()\n"
   ]
  },
  {
   "cell_type": "markdown",
   "metadata": {},
   "source": [
    "Now I'm going to review the data's structure to note their datatypes and to examine the columns and the number of rows in each. Then I will look for missing data and get some summary statistics. I'll be using the .info(), .shape, and .describe() methods."
   ]
  },
  {
   "cell_type": "code",
   "execution_count": 278,
   "metadata": {},
   "outputs": [
    {
     "name": "stdout",
     "output_type": "stream",
     "text": [
      "<class 'pandas.core.frame.DataFrame'>\n",
      "RangeIndex: 10866 entries, 0 to 10865\n",
      "Data columns (total 21 columns):\n",
      " #   Column                Non-Null Count  Dtype  \n",
      "---  ------                --------------  -----  \n",
      " 0   id                    10866 non-null  int64  \n",
      " 1   imdb_id               10856 non-null  object \n",
      " 2   popularity            10866 non-null  float64\n",
      " 3   budget                10866 non-null  int64  \n",
      " 4   revenue               10866 non-null  int64  \n",
      " 5   original_title        10866 non-null  object \n",
      " 6   cast                  10790 non-null  object \n",
      " 7   homepage              2936 non-null   object \n",
      " 8   director              10822 non-null  object \n",
      " 9   tagline               8042 non-null   object \n",
      " 10  keywords              9373 non-null   object \n",
      " 11  overview              10862 non-null  object \n",
      " 12  runtime               10866 non-null  int64  \n",
      " 13  genres                10843 non-null  object \n",
      " 14  production_companies  9836 non-null   object \n",
      " 15  release_date          10866 non-null  object \n",
      " 16  vote_count            10866 non-null  int64  \n",
      " 17  vote_average          10866 non-null  float64\n",
      " 18  release_year          10866 non-null  int64  \n",
      " 19  budget_adj            10866 non-null  float64\n",
      " 20  revenue_adj           10866 non-null  float64\n",
      "dtypes: float64(4), int64(6), object(11)\n",
      "memory usage: 1.7+ MB\n"
     ]
    },
    {
     "data": {
      "text/plain": [
       "(10866, 21)"
      ]
     },
     "execution_count": 278,
     "metadata": {},
     "output_type": "execute_result"
    }
   ],
   "source": [
    "#data structure, what it looks like\n",
    "df_tmdb.info()\n",
    "df_tmdb.shape\n"
   ]
  },
  {
   "cell_type": "markdown",
   "metadata": {},
   "source": [
    "The .info function and .shape gives me lots of information. I can see the column names, the row counts in each column and their datatypes. It also gives me a breakdown on the total number of each datatype(dtypes) and now we know how many numeric columns (10) and object columns(11) are present. The .shape method returns the dimensions of the dataframe, with 10866 rows and 21 columns. <p>It is apparent that some rows have missing data in columns so that will need to be addressed before any exploratory data analysis can begin. Now that I have the datatypes and column names I can examine and decide whether to drop columns that may not be useful for our analysis. The numeric datatypes also vary so some might need to be converted before we work with them. Next I will get some statistics using .describe(), .max(), and .min().<p/> \n"
   ]
  },
  {
   "cell_type": "code",
   "execution_count": 279,
   "metadata": {
    "scrolled": true
   },
   "outputs": [
    {
     "data": {
      "text/html": [
       "<div>\n",
       "<style scoped>\n",
       "    .dataframe tbody tr th:only-of-type {\n",
       "        vertical-align: middle;\n",
       "    }\n",
       "\n",
       "    .dataframe tbody tr th {\n",
       "        vertical-align: top;\n",
       "    }\n",
       "\n",
       "    .dataframe thead th {\n",
       "        text-align: right;\n",
       "    }\n",
       "</style>\n",
       "<table border=\"1\" class=\"dataframe\">\n",
       "  <thead>\n",
       "    <tr style=\"text-align: right;\">\n",
       "      <th></th>\n",
       "      <th>id</th>\n",
       "      <th>popularity</th>\n",
       "      <th>budget</th>\n",
       "      <th>revenue</th>\n",
       "      <th>runtime</th>\n",
       "      <th>vote_count</th>\n",
       "      <th>vote_average</th>\n",
       "      <th>release_year</th>\n",
       "      <th>budget_adj</th>\n",
       "      <th>revenue_adj</th>\n",
       "    </tr>\n",
       "  </thead>\n",
       "  <tbody>\n",
       "    <tr>\n",
       "      <th>count</th>\n",
       "      <td>10866.000000</td>\n",
       "      <td>10866.000000</td>\n",
       "      <td>1.086600e+04</td>\n",
       "      <td>1.086600e+04</td>\n",
       "      <td>10866.000000</td>\n",
       "      <td>10866.000000</td>\n",
       "      <td>10866.000000</td>\n",
       "      <td>10866.000000</td>\n",
       "      <td>1.086600e+04</td>\n",
       "      <td>1.086600e+04</td>\n",
       "    </tr>\n",
       "    <tr>\n",
       "      <th>mean</th>\n",
       "      <td>66064.177434</td>\n",
       "      <td>0.646441</td>\n",
       "      <td>1.462570e+07</td>\n",
       "      <td>3.982332e+07</td>\n",
       "      <td>102.070863</td>\n",
       "      <td>217.389748</td>\n",
       "      <td>5.974922</td>\n",
       "      <td>2001.322658</td>\n",
       "      <td>1.755104e+07</td>\n",
       "      <td>5.136436e+07</td>\n",
       "    </tr>\n",
       "    <tr>\n",
       "      <th>std</th>\n",
       "      <td>92130.136561</td>\n",
       "      <td>1.000185</td>\n",
       "      <td>3.091321e+07</td>\n",
       "      <td>1.170035e+08</td>\n",
       "      <td>31.381405</td>\n",
       "      <td>575.619058</td>\n",
       "      <td>0.935142</td>\n",
       "      <td>12.812941</td>\n",
       "      <td>3.430616e+07</td>\n",
       "      <td>1.446325e+08</td>\n",
       "    </tr>\n",
       "    <tr>\n",
       "      <th>min</th>\n",
       "      <td>5.000000</td>\n",
       "      <td>0.000065</td>\n",
       "      <td>0.000000e+00</td>\n",
       "      <td>0.000000e+00</td>\n",
       "      <td>0.000000</td>\n",
       "      <td>10.000000</td>\n",
       "      <td>1.500000</td>\n",
       "      <td>1960.000000</td>\n",
       "      <td>0.000000e+00</td>\n",
       "      <td>0.000000e+00</td>\n",
       "    </tr>\n",
       "    <tr>\n",
       "      <th>25%</th>\n",
       "      <td>10596.250000</td>\n",
       "      <td>0.207583</td>\n",
       "      <td>0.000000e+00</td>\n",
       "      <td>0.000000e+00</td>\n",
       "      <td>90.000000</td>\n",
       "      <td>17.000000</td>\n",
       "      <td>5.400000</td>\n",
       "      <td>1995.000000</td>\n",
       "      <td>0.000000e+00</td>\n",
       "      <td>0.000000e+00</td>\n",
       "    </tr>\n",
       "    <tr>\n",
       "      <th>50%</th>\n",
       "      <td>20669.000000</td>\n",
       "      <td>0.383856</td>\n",
       "      <td>0.000000e+00</td>\n",
       "      <td>0.000000e+00</td>\n",
       "      <td>99.000000</td>\n",
       "      <td>38.000000</td>\n",
       "      <td>6.000000</td>\n",
       "      <td>2006.000000</td>\n",
       "      <td>0.000000e+00</td>\n",
       "      <td>0.000000e+00</td>\n",
       "    </tr>\n",
       "    <tr>\n",
       "      <th>75%</th>\n",
       "      <td>75610.000000</td>\n",
       "      <td>0.713817</td>\n",
       "      <td>1.500000e+07</td>\n",
       "      <td>2.400000e+07</td>\n",
       "      <td>111.000000</td>\n",
       "      <td>145.750000</td>\n",
       "      <td>6.600000</td>\n",
       "      <td>2011.000000</td>\n",
       "      <td>2.085325e+07</td>\n",
       "      <td>3.369710e+07</td>\n",
       "    </tr>\n",
       "    <tr>\n",
       "      <th>max</th>\n",
       "      <td>417859.000000</td>\n",
       "      <td>32.985763</td>\n",
       "      <td>4.250000e+08</td>\n",
       "      <td>2.781506e+09</td>\n",
       "      <td>900.000000</td>\n",
       "      <td>9767.000000</td>\n",
       "      <td>9.200000</td>\n",
       "      <td>2015.000000</td>\n",
       "      <td>4.250000e+08</td>\n",
       "      <td>2.827124e+09</td>\n",
       "    </tr>\n",
       "  </tbody>\n",
       "</table>\n",
       "</div>"
      ],
      "text/plain": [
       "                  id    popularity        budget       revenue       runtime  \\\n",
       "count   10866.000000  10866.000000  1.086600e+04  1.086600e+04  10866.000000   \n",
       "mean    66064.177434      0.646441  1.462570e+07  3.982332e+07    102.070863   \n",
       "std     92130.136561      1.000185  3.091321e+07  1.170035e+08     31.381405   \n",
       "min         5.000000      0.000065  0.000000e+00  0.000000e+00      0.000000   \n",
       "25%     10596.250000      0.207583  0.000000e+00  0.000000e+00     90.000000   \n",
       "50%     20669.000000      0.383856  0.000000e+00  0.000000e+00     99.000000   \n",
       "75%     75610.000000      0.713817  1.500000e+07  2.400000e+07    111.000000   \n",
       "max    417859.000000     32.985763  4.250000e+08  2.781506e+09    900.000000   \n",
       "\n",
       "         vote_count  vote_average  release_year    budget_adj   revenue_adj  \n",
       "count  10866.000000  10866.000000  10866.000000  1.086600e+04  1.086600e+04  \n",
       "mean     217.389748      5.974922   2001.322658  1.755104e+07  5.136436e+07  \n",
       "std      575.619058      0.935142     12.812941  3.430616e+07  1.446325e+08  \n",
       "min       10.000000      1.500000   1960.000000  0.000000e+00  0.000000e+00  \n",
       "25%       17.000000      5.400000   1995.000000  0.000000e+00  0.000000e+00  \n",
       "50%       38.000000      6.000000   2006.000000  0.000000e+00  0.000000e+00  \n",
       "75%      145.750000      6.600000   2011.000000  2.085325e+07  3.369710e+07  \n",
       "max     9767.000000      9.200000   2015.000000  4.250000e+08  2.827124e+09  "
      ]
     },
     "execution_count": 279,
     "metadata": {},
     "output_type": "execute_result"
    }
   ],
   "source": [
    "df_tmdb.describe()"
   ]
  },
  {
   "cell_type": "markdown",
   "metadata": {},
   "source": [
    "The describe function gives us an overview of statistical values."
   ]
  },
  {
   "cell_type": "markdown",
   "metadata": {},
   "source": [
    "<p>\n",
    "    Referring to the .info() function I see that there's more problems with this dataset. Note the <strong>release_date</strong> column's datatype is \"object\", which in Pandas is just a pointer to a string datatype. This column should be a datetime object which will allow date operations to be performed on it if we so choose. I can easily discern that some of the columns have large values with leading or trailing zeros. We'll modify the number of decimal places in the columns and remove some trailing zeros in the values. But first I will convert the release_date column to a datetime object.</p>"
   ]
  },
  {
   "cell_type": "code",
   "execution_count": 280,
   "metadata": {},
   "outputs": [],
   "source": [
    "df_tmdb['release_date'] = pd.to_datetime(df_tmdb['release_date'])"
   ]
  },
  {
   "cell_type": "markdown",
   "metadata": {},
   "source": [
    "Next I will confirm the change was successful using the dtypes method."
   ]
  },
  {
   "cell_type": "code",
   "execution_count": 281,
   "metadata": {},
   "outputs": [
    {
     "data": {
      "text/plain": [
       "id                               int64\n",
       "imdb_id                         object\n",
       "popularity                     float64\n",
       "budget                           int64\n",
       "revenue                          int64\n",
       "original_title                  object\n",
       "cast                            object\n",
       "homepage                        object\n",
       "director                        object\n",
       "tagline                         object\n",
       "keywords                        object\n",
       "overview                        object\n",
       "runtime                          int64\n",
       "genres                          object\n",
       "production_companies            object\n",
       "release_date            datetime64[ns]\n",
       "vote_count                       int64\n",
       "vote_average                   float64\n",
       "release_year                     int64\n",
       "budget_adj                     float64\n",
       "revenue_adj                    float64\n",
       "dtype: object"
      ]
     },
     "execution_count": 281,
     "metadata": {},
     "output_type": "execute_result"
    }
   ],
   "source": [
    "df_tmdb.dtypes"
   ]
  },
  {
   "cell_type": "markdown",
   "metadata": {},
   "source": [
    "As expected, the change was successful. Now that the release_date column is a datetime object it is available for use in our analysis if needed. Now we want to return the min() and max() values to get ranges."
   ]
  },
  {
   "cell_type": "code",
   "execution_count": 282,
   "metadata": {},
   "outputs": [
    {
     "name": "stdout",
     "output_type": "stream",
     "text": [
      "Max Value:\n",
      " \n",
      " id              4.178590e+05\n",
      "popularity      3.298576e+01\n",
      "budget          4.250000e+08\n",
      "revenue         2.781506e+09\n",
      "runtime         9.000000e+02\n",
      "vote_count      9.767000e+03\n",
      "vote_average    9.200000e+00\n",
      "release_year    2.015000e+03\n",
      "budget_adj      4.250000e+08\n",
      "revenue_adj     2.827124e+09\n",
      "dtype: float64 \n",
      "\n",
      "Min Value:\n",
      " \n",
      " id                 5.000000\n",
      "popularity         0.000065\n",
      "budget             0.000000\n",
      "revenue            0.000000\n",
      "runtime            0.000000\n",
      "vote_count        10.000000\n",
      "vote_average       1.500000\n",
      "release_year    1960.000000\n",
      "budget_adj         0.000000\n",
      "revenue_adj        0.000000\n",
      "dtype: float64\n"
     ]
    }
   ],
   "source": [
    "df_tmdb_max = df_tmdb.select_dtypes(include='number').max()\n",
    "df_tmdb_min = df_tmdb.select_dtypes(include='number').min()\n",
    "print(\"Max Value:\\n\",\"\\n\", df_tmdb_max, \"\\n\")\n",
    "print(\"Min Value:\\n\",\"\\n\", df_tmdb_min)"
   ]
  },
  {
   "cell_type": "markdown",
   "metadata": {},
   "source": [
    "As you can see above I have the range of values after finding the maximum and minimum numbers. However, notice the '0.0' in the five columns. This is a problem as it will skew any calculation results we may perform. Let's use numpy to change the zero values to np.nan (Not a Number).  "
   ]
  },
  {
   "cell_type": "code",
   "execution_count": 283,
   "metadata": {},
   "outputs": [],
   "source": [
    "df_tmdb.revenue.replace(0, np.nan, inplace = True)\n",
    "df_tmdb.revenue_adj.replace(0, np.nan, inplace = True)\n",
    "df_tmdb.budget.replace(0, np.nan, inplace = True)\n",
    "df_tmdb.budget_adj.replace(0, np.nan, inplace = True)\n",
    "df_tmdb.popularity.replace(0, np.nan, inplace = True)"
   ]
  },
  {
   "cell_type": "markdown",
   "metadata": {},
   "source": [
    "For simplicity, I'm going to replace the popularity and budget_adj min values between 0 and 1, to 1."
   ]
  },
  {
   "cell_type": "code",
   "execution_count": 284,
   "metadata": {},
   "outputs": [],
   "source": [
    "#create mask\n",
    "df_tmdb['popularity'].mask(df_tmdb['popularity'] < 1, 1, inplace=True)\n",
    "df_tmdb['budget_adj'].mask(df_tmdb['budget_adj'] < 1, 1, inplace=True)\n"
   ]
  },
  {
   "cell_type": "markdown",
   "metadata": {},
   "source": [
    "Obtaining the number of unique values in each column might also be helpful for our analysis. Let's use the .nunique function to accomplish this."
   ]
  },
  {
   "cell_type": "code",
   "execution_count": 285,
   "metadata": {
    "scrolled": true
   },
   "outputs": [
    {
     "data": {
      "text/plain": [
       "id                      10865\n",
       "imdb_id                 10855\n",
       "popularity               1756\n",
       "budget                    556\n",
       "revenue                  4701\n",
       "original_title          10571\n",
       "cast                    10719\n",
       "homepage                 2896\n",
       "director                 5067\n",
       "tagline                  7997\n",
       "keywords                 8804\n",
       "overview                10847\n",
       "runtime                   247\n",
       "genres                   2039\n",
       "production_companies     7445\n",
       "release_date             5909\n",
       "vote_count               1289\n",
       "vote_average               72\n",
       "release_year               56\n",
       "budget_adj               2612\n",
       "revenue_adj              4839\n",
       "dtype: int64"
      ]
     },
     "execution_count": 285,
     "metadata": {},
     "output_type": "execute_result"
    }
   ],
   "source": [
    "df_tmdb.nunique()"
   ]
  },
  {
   "cell_type": "markdown",
   "metadata": {},
   "source": [
    "Now we have the total number of unique values in the columns, here for our reference if needed."
   ]
  },
  {
   "cell_type": "markdown",
   "metadata": {},
   "source": [
    "### Data Cleaning - Removing nulls and duplicate rows"
   ]
  },
  {
   "cell_type": "markdown",
   "metadata": {},
   "source": [
    "After confirming rows with null values in the previous step, I'm going to remove them using the .dropna() function below. This makes the data more consistent and suitable for our analysis.\n"
   ]
  },
  {
   "cell_type": "code",
   "execution_count": 286,
   "metadata": {},
   "outputs": [],
   "source": [
    "df_tmdb.dropna(inplace=True)"
   ]
  },
  {
   "cell_type": "markdown",
   "metadata": {},
   "source": [
    "Next I'll confirm that the nulls have been removed using the .isnull(), .sum(), and .any() methods. This returns a Boolean value, expected to be False indicating the rows have been removed."
   ]
  },
  {
   "cell_type": "code",
   "execution_count": 287,
   "metadata": {},
   "outputs": [
    {
     "data": {
      "text/plain": [
       "False"
      ]
     },
     "execution_count": 287,
     "metadata": {},
     "output_type": "execute_result"
    }
   ],
   "source": [
    "df_tmdb.isnull().sum().any()"
   ]
  },
  {
   "cell_type": "markdown",
   "metadata": {},
   "source": [
    "As expected the previous statement returned False. The last step in this data cleaning operation is to confirm if any duplicate rows exist using the .duplicated() function. Then we'll use sum() to return the total number of duplicate rows."
   ]
  },
  {
   "cell_type": "code",
   "execution_count": 288,
   "metadata": {
    "scrolled": true
   },
   "outputs": [
    {
     "name": "stdout",
     "output_type": "stream",
     "text": [
      "0\n"
     ]
    }
   ],
   "source": [
    "print(df_tmdb.duplicated().sum())\n"
   ]
  },
  {
   "cell_type": "markdown",
   "metadata": {},
   "source": [
    "The last operation returned 0 meaning it did not find any duplicates, so this worked. After reviewing the data further I'm going to drop some columns that are not useful for our analysis. This should make the dataframe easier to work with."
   ]
  },
  {
   "cell_type": "code",
   "execution_count": 289,
   "metadata": {},
   "outputs": [
    {
     "name": "stdout",
     "output_type": "stream",
     "text": [
      "<class 'pandas.core.frame.DataFrame'>\n",
      "Int64Index: 1287 entries, 0 to 10760\n",
      "Data columns (total 13 columns):\n",
      " #   Column          Non-Null Count  Dtype         \n",
      "---  ------          --------------  -----         \n",
      " 0   popularity      1287 non-null   float64       \n",
      " 1   budget          1287 non-null   float64       \n",
      " 2   revenue         1287 non-null   float64       \n",
      " 3   original_title  1287 non-null   object        \n",
      " 4   cast            1287 non-null   object        \n",
      " 5   director        1287 non-null   object        \n",
      " 6   genres          1287 non-null   object        \n",
      " 7   release_date    1287 non-null   datetime64[ns]\n",
      " 8   vote_count      1287 non-null   int64         \n",
      " 9   vote_average    1287 non-null   float64       \n",
      " 10  release_year    1287 non-null   int64         \n",
      " 11  budget_adj      1287 non-null   float64       \n",
      " 12  revenue_adj     1287 non-null   float64       \n",
      "dtypes: datetime64[ns](1), float64(6), int64(2), object(4)\n",
      "memory usage: 140.8+ KB\n"
     ]
    }
   ],
   "source": [
    "#columns to drop\n",
    "df_tmdb.drop(['id', 'imdb_id', 'homepage', 'tagline', 'overview', 'runtime', 'keywords', 'production_companies'], axis=1, inplace=True)\n",
    "df_tmdb.info()"
   ]
  },
  {
   "cell_type": "markdown",
   "metadata": {},
   "source": [
    "That's better. Later in the analysis, since the 'director' column is one of our independent variables, and 'popularity' is our dependent variable, I want to query 'popularity' first, and get the top scores.  Next, I'll query that result by 'revenue_adj' to see the directors in that set with high adjusted revenue.  Our first step is to split and explode the string values in the 'director' column which, in the case of multiple directors delimited by the \"|\" will return the first occurence in the string which is the most prominent director for the movie. I'm going to save the results to a new dataframe."
   ]
  },
  {
   "cell_type": "code",
   "execution_count": 290,
   "metadata": {},
   "outputs": [
    {
     "name": "stdout",
     "output_type": "stream",
     "text": [
      "<class 'pandas.core.frame.DataFrame'>\n",
      "Int64Index: 1411 entries, 0 to 10760\n",
      "Data columns (total 13 columns):\n",
      " #   Column          Non-Null Count  Dtype         \n",
      "---  ------          --------------  -----         \n",
      " 0   popularity      1411 non-null   float64       \n",
      " 1   budget          1411 non-null   float64       \n",
      " 2   revenue         1411 non-null   float64       \n",
      " 3   original_title  1411 non-null   object        \n",
      " 4   cast            1411 non-null   object        \n",
      " 5   director        1411 non-null   object        \n",
      " 6   genres          1411 non-null   object        \n",
      " 7   release_date    1411 non-null   datetime64[ns]\n",
      " 8   vote_count      1411 non-null   int64         \n",
      " 9   vote_average    1411 non-null   float64       \n",
      " 10  release_year    1411 non-null   int64         \n",
      " 11  budget_adj      1411 non-null   float64       \n",
      " 12  revenue_adj     1411 non-null   float64       \n",
      "dtypes: datetime64[ns](1), float64(6), int64(2), object(4)\n",
      "memory usage: 154.3+ KB\n"
     ]
    }
   ],
   "source": [
    "#create new dataframe\n",
    "df_director = df_tmdb.assign(director=df_tmdb.director.str.split(\"|\")).explode('director')\n",
    "df_director.info()"
   ]
  },
  {
   "cell_type": "markdown",
   "metadata": {},
   "source": [
    "As you can see, we're narrowing our list of directors, based on the information above.  Since we \"exploded\" the director column any films with multiple directors have been split into new rows. Now we can narrow our list even more with queries. Remember, first let's query directors whose film's popularity score is greater than 1, then we'll query the adjusted revenue from that set."
   ]
  },
  {
   "cell_type": "code",
   "execution_count": 291,
   "metadata": {},
   "outputs": [
    {
     "name": "stdout",
     "output_type": "stream",
     "text": [
      "<class 'pandas.core.frame.DataFrame'>\n",
      "Int64Index: 826 entries, 0 to 10760\n",
      "Data columns (total 13 columns):\n",
      " #   Column          Non-Null Count  Dtype         \n",
      "---  ------          --------------  -----         \n",
      " 0   popularity      826 non-null    float64       \n",
      " 1   budget          826 non-null    float64       \n",
      " 2   revenue         826 non-null    float64       \n",
      " 3   original_title  826 non-null    object        \n",
      " 4   cast            826 non-null    object        \n",
      " 5   director        826 non-null    object        \n",
      " 6   genres          826 non-null    object        \n",
      " 7   release_date    826 non-null    datetime64[ns]\n",
      " 8   vote_count      826 non-null    int64         \n",
      " 9   vote_average    826 non-null    float64       \n",
      " 10  release_year    826 non-null    int64         \n",
      " 11  budget_adj      826 non-null    float64       \n",
      " 12  revenue_adj     826 non-null    float64       \n",
      "dtypes: datetime64[ns](1), float64(6), int64(2), object(4)\n",
      "memory usage: 90.3+ KB\n"
     ]
    }
   ],
   "source": [
    "# querying all directors whose popularity score is greater than 1\n",
    "df_director_p = df_director.query('popularity > 1.0')\n",
    "df_director_p.info()"
   ]
  },
  {
   "cell_type": "markdown",
   "metadata": {},
   "source": [
    "This returned 826 rows. Now since the adjusted budget and adjusted revenue entries have large numbers I'm going to return  the mean for those columns as a starting point. "
   ]
  },
  {
   "cell_type": "code",
   "execution_count": 292,
   "metadata": {},
   "outputs": [
    {
     "data": {
      "text/plain": [
       "306971177.86143863"
      ]
     },
     "execution_count": 292,
     "metadata": {},
     "output_type": "execute_result"
    }
   ],
   "source": [
    "#return the mean()\n",
    "df_director_p.revenue_adj.mean() # adjusted revenue mean: 494979469.62639743\n"
   ]
  },
  {
   "cell_type": "code",
   "execution_count": 293,
   "metadata": {},
   "outputs": [
    {
     "data": {
      "text/plain": [
       "73760032.61259602"
      ]
     },
     "execution_count": 293,
     "metadata": {},
     "output_type": "execute_result"
    }
   ],
   "source": [
    "df_director_p.budget_adj.mean() # adjusted budget mean: 136075631.36210734"
   ]
  },
  {
   "cell_type": "code",
   "execution_count": 294,
   "metadata": {},
   "outputs": [
    {
     "name": "stdout",
     "output_type": "stream",
     "text": [
      "<class 'pandas.core.frame.DataFrame'>\n",
      "Int64Index: 826 entries, 0 to 10760\n",
      "Data columns (total 13 columns):\n",
      " #   Column          Non-Null Count  Dtype         \n",
      "---  ------          --------------  -----         \n",
      " 0   popularity      826 non-null    float64       \n",
      " 1   budget          826 non-null    float64       \n",
      " 2   revenue         826 non-null    float64       \n",
      " 3   original_title  826 non-null    object        \n",
      " 4   cast            826 non-null    object        \n",
      " 5   director        826 non-null    object        \n",
      " 6   genres          826 non-null    object        \n",
      " 7   release_date    826 non-null    datetime64[ns]\n",
      " 8   vote_count      826 non-null    int64         \n",
      " 9   vote_average    826 non-null    float64       \n",
      " 10  release_year    826 non-null    int64         \n",
      " 11  budget_adj      826 non-null    float64       \n",
      " 12  revenue_adj     826 non-null    float64       \n",
      "dtypes: datetime64[ns](1), float64(6), int64(2), object(4)\n",
      "memory usage: 90.3+ KB\n"
     ]
    }
   ],
   "source": [
    "#query the dependent variable\n",
    "df_director_r = df_director_p.query('popularity > 1.0')\n",
    "df_director_r.info()"
   ]
  },
  {
   "cell_type": "code",
   "execution_count": 295,
   "metadata": {},
   "outputs": [
    {
     "name": "stdout",
     "output_type": "stream",
     "text": [
      "<class 'pandas.core.frame.DataFrame'>\n",
      "Int64Index: 322 entries, 0 to 10689\n",
      "Data columns (total 13 columns):\n",
      " #   Column          Non-Null Count  Dtype         \n",
      "---  ------          --------------  -----         \n",
      " 0   popularity      322 non-null    float64       \n",
      " 1   budget          322 non-null    float64       \n",
      " 2   revenue         322 non-null    float64       \n",
      " 3   original_title  322 non-null    object        \n",
      " 4   cast            322 non-null    object        \n",
      " 5   director        322 non-null    object        \n",
      " 6   genres          322 non-null    object        \n",
      " 7   release_date    322 non-null    datetime64[ns]\n",
      " 8   vote_count      322 non-null    int64         \n",
      " 9   vote_average    322 non-null    float64       \n",
      " 10  release_year    322 non-null    int64         \n",
      " 11  budget_adj      322 non-null    float64       \n",
      " 12  revenue_adj     322 non-null    float64       \n",
      "dtypes: datetime64[ns](1), float64(6), int64(2), object(4)\n",
      "memory usage: 35.2+ KB\n"
     ]
    }
   ],
   "source": [
    "#adjusted budget mean: 73760032.61259602\n",
    "#querying all directors whose adjusted budget > mean\n",
    "df_director_b = df_director_r.query('budget_adj > 73760032.61259602') #322 entries\n",
    "df_director_b.info()\n"
   ]
  },
  {
   "cell_type": "code",
   "execution_count": 296,
   "metadata": {},
   "outputs": [
    {
     "name": "stdout",
     "output_type": "stream",
     "text": [
      "<class 'pandas.core.frame.DataFrame'>\n",
      "Int64Index: 132 entries, 0 to 10689\n",
      "Data columns (total 13 columns):\n",
      " #   Column          Non-Null Count  Dtype         \n",
      "---  ------          --------------  -----         \n",
      " 0   popularity      132 non-null    float64       \n",
      " 1   budget          132 non-null    float64       \n",
      " 2   revenue         132 non-null    float64       \n",
      " 3   original_title  132 non-null    object        \n",
      " 4   cast            132 non-null    object        \n",
      " 5   director        132 non-null    object        \n",
      " 6   genres          132 non-null    object        \n",
      " 7   release_date    132 non-null    datetime64[ns]\n",
      " 8   vote_count      132 non-null    int64         \n",
      " 9   vote_average    132 non-null    float64       \n",
      " 10  release_year    132 non-null    int64         \n",
      " 11  budget_adj      132 non-null    float64       \n",
      " 12  revenue_adj     132 non-null    float64       \n",
      "dtypes: datetime64[ns](1), float64(6), int64(2), object(4)\n",
      "memory usage: 14.4+ KB\n"
     ]
    }
   ],
   "source": [
    "#adjusted revenue mean: 494979469.62639743\n",
    "#querying all directors whose adjusted revenue > mean\n",
    "df_director_p = df_director_b.query('revenue_adj > 494979469.62639743')\n",
    "df_director_p.info()\n",
    "\n"
   ]
  },
  {
   "cell_type": "markdown",
   "metadata": {},
   "source": [
    "After running the queries above we've arrived at good samples for our dataset. These we can work with."
   ]
  },
  {
   "cell_type": "markdown",
   "metadata": {},
   "source": [
    "So to sum up, first we queried directors with high popularity scoreswe are down to 9 directors which will be our final subset.  For the purposes of our analyses we now have a clean dataset we can work with. Next, we'll examine the data further using visualizations to look for trends or other correlating factors."
   ]
  },
  {
   "cell_type": "markdown",
   "metadata": {},
   "source": [
    "<a id='eda'></a>\n",
    "## Exploratory Data Analysis\n",
    "\n",
    "> **Tip**: Now that you've trimmed and cleaned your data, you're ready to move on to exploration. Compute statistics and create visualizations with the goal of addressing the research questions that you posed in the Introduction section. It is recommended that you be systematic with your approach. Look at one variable at a time, and then follow it up by looking at relationships between variables.\n",
    "\n",
    "### Research Question 1: Is there a correlation between the film's production budget and the popularity score?"
   ]
  },
  {
   "cell_type": "markdown",
   "metadata": {},
   "source": [
    "Let's examine the [budget_adj] column which is our independent variable in this question. I'm going to use panda's hist and plot functions and matplotlib to produce some histograms and other visualizations. First, let's see what the data looks like with a simple histogram."
   ]
  },
  {
   "cell_type": "code",
   "execution_count": 297,
   "metadata": {},
   "outputs": [
    {
     "data": {
      "text/plain": [
       "<AxesSubplot:>"
      ]
     },
     "execution_count": 297,
     "metadata": {},
     "output_type": "execute_result"
    },
    {
     "data": {
      "image/png": "[encoded data removed]",
      "text/plain": [
       "<Figure size 432x288 with 1 Axes>"
      ]
     },
     "metadata": {
      "needs_background": "light"
     },
     "output_type": "display_data"
    }
   ],
   "source": [
    "#histogram #1 adjusted budget\n",
    "df_director_p.budget_adj.hist()"
   ]
  },
  {
   "cell_type": "code",
   "execution_count": 298,
   "metadata": {},
   "outputs": [
    {
     "data": {
      "text/plain": [
       "<AxesSubplot:>"
      ]
     },
     "execution_count": 298,
     "metadata": {},
     "output_type": "execute_result"
    },
    {
     "data": {
      "image/png": "[encoded data removed]",
      "text/plain": [
       "<Figure size 432x288 with 1 Axes>"
      ]
     },
     "metadata": {
      "needs_background": "light"
     },
     "output_type": "display_data"
    }
   ],
   "source": [
    "df_director_r.revenue_adj.hist()"
   ]
  },
  {
   "cell_type": "code",
   "execution_count": 299,
   "metadata": {},
   "outputs": [
    {
     "data": {
      "text/plain": [
       "<AxesSubplot:>"
      ]
     },
     "execution_count": 299,
     "metadata": {},
     "output_type": "execute_result"
    },
    {
     "data": {
      "image/png": "[encoded data removed]",
      "text/plain": [
       "<Figure size 432x288 with 1 Axes>"
      ]
     },
     "metadata": {
      "needs_background": "light"
     },
     "output_type": "display_data"
    }
   ],
   "source": [
    "df_director_p.popularity.hist()"
   ]
  },
  {
   "cell_type": "markdown",
   "metadata": {},
   "source": [
    "It appears the data is skewed to the right in the distributions for the budget_adj, revenue_adj, and popularity variables. Let's see how strong or weak the correlations are between the popularity and budget_adj and popularity and revenue_adj variables.  We'll create a function to produce scatter plots for these. "
   ]
  },
  {
   "cell_type": "code",
   "execution_count": 300,
   "metadata": {},
   "outputs": [],
   "source": [
    "def tmdbScatterPlots(df, xVar, yVar):\n",
    "    \"\"\"PlotLib objects which allows us to configure and \n",
    "   customize our plots. Most importantly it helps us avoid repetitive coding,\n",
    "   a bad practice. The function has 3 parameters that accept arguments when we \n",
    "   call it. When the function is called it produces a scatter plot of two \n",
    "   variables.\"\"\"\n",
    "    \n",
    "    # the plot statement\n",
    "    df.plot(kind='scatter', x=xVar, y=yVar, color='orange', figsize=[14, 6]);\n",
    "    \n",
    "    #the independent variable xVar. we'll substitute a space in place of the underscore \n",
    "    #in the variable name\n",
    "    xVar=xVar.replace('-', ' ')    \n",
    "    yVar=yVar.replace('-', ' ') \n",
    "    \n",
    "    #add the title to the plot\n",
    "    plt.title(f'Relationship Between {yVar} and {xVar}'.title(), fontsize=14, weight=\"bold\")\n",
    "    \n",
    "       \n",
    "    #add plot labels\n",
    "    plt.xlabel(xVar.title(), fontsize=10, weight=\"bold\")    \n",
    "    plt.ylabel(yVar.title(), fontsize=10, weight=\"bold\")\n",
    "    \n",
    "    \n"
   ]
  },
  {
   "cell_type": "markdown",
   "metadata": {},
   "source": []
  },
  {
   "cell_type": "code",
   "execution_count": 301,
   "metadata": {},
   "outputs": [
    {
     "data": {
      "image/png": "[encoded data removed]",
      "text/plain": [
       "<Figure size 1008x432 with 1 Axes>"
      ]
     },
     "metadata": {
      "needs_background": "light"
     },
     "output_type": "display_data"
    }
   ],
   "source": [
    "tmdbScatterPlots(df_director_r, 'revenue_adj', 'popularity')"
   ]
  },
  {
   "cell_type": "markdown",
   "metadata": {},
   "source": [
    "The first scatter plot appears what looks like a possible weak positive correlation between the two variables. Let's do another one using popularity and budget_adj."
   ]
  },
  {
   "cell_type": "code",
   "execution_count": 302,
   "metadata": {},
   "outputs": [
    {
     "data": {
      "image/png": "[encoded data removed]",
      "text/plain": [
       "<Figure size 1008x432 with 1 Axes>"
      ]
     },
     "metadata": {
      "needs_background": "light"
     },
     "output_type": "display_data"
    }
   ],
   "source": [
    "tmdbScatterPlots(df_director_b, 'budget_adj', 'popularity')\n"
   ]
  },
  {
   "cell_type": "markdown",
   "metadata": {},
   "source": [
    "Like the previous plot, this one also shows what might be a weak positive correlation but perhaps less than the first plot."
   ]
  },
  {
   "cell_type": "markdown",
   "metadata": {},
   "source": [
    "## Research Question 2: Is the popularity score influenced by the director of the film? Who are the top directors based on their popularity scores, adjusted revenue and adjusted budget?"
   ]
  },
  {
   "cell_type": "markdown",
   "metadata": {},
   "source": [
    "Now we'll narrow down our list of directors whose movies generated the most revenue adjusted for inflation. First we'll aggregate our list and return the top ten with the most revenue."
   ]
  },
  {
   "cell_type": "code",
   "execution_count": 303,
   "metadata": {},
   "outputs": [
    {
     "data": {
      "text/plain": [
       "director\n",
       "Christopher Nolan    49.370722\n",
       "Peter Jackson        42.497467\n",
       "Colin Trevorrow      32.985763\n",
       "Francis Lawrence     23.830158\n",
       "David Yates          20.506537\n",
       "Gore Verbinski       16.035450\n",
       "Pete Docter          14.440001\n",
       "James Gunn           14.311205\n",
       "James Cameron        13.787987\n",
       "Joss Whedon          13.582694\n",
       "Name: popularity, dtype: float64"
      ]
     },
     "execution_count": 303,
     "metadata": {},
     "output_type": "execute_result"
    }
   ],
   "source": [
    "#return the top ten directors based on popularity\n",
    "df_director_p = df_director_p.groupby('director')['popularity'].sum().nlargest(10)\n",
    "df_director_p\n"
   ]
  },
  {
   "cell_type": "markdown",
   "metadata": {},
   "source": [
    "The previous query returns the top ten directors and the sum of their popularity scores. Now let's create some bar plots so we can have a better understanding of our data."
   ]
  },
  {
   "cell_type": "code",
   "execution_count": 304,
   "metadata": {},
   "outputs": [
    {
     "data": {
      "text/plain": [
       "(-0.6, 10.0)"
      ]
     },
     "execution_count": 304,
     "metadata": {},
     "output_type": "execute_result"
    },
    {
     "data": {
      "image/png": "[encoded data removed]",
      "text/plain": [
       "<Figure size 1008x576 with 2 Axes>"
      ]
     },
     "metadata": {
      "needs_background": "light"
     },
     "output_type": "display_data"
    }
   ],
   "source": [
    "#plots and histograms -  popularity and budget adjusted \n",
    "\n",
    "#using groupby() with budget_adj\n",
    "df_director_b = df_director_b.groupby('director')['budget_adj'].sum().nlargest(10)\n",
    "\n",
    "\n",
    "#overlay popularity score with the budget adjusted beside it\n",
    "fig, ax = plt.subplots(1, figsize=[14, 8]);\n",
    "\n",
    "#budget plot\n",
    "df_director_b.plot(kind='barh', width=0.35, title=\" Top \", label=\"Budget\", ax=ax,position=0);\n",
    "\n",
    "ax.set_xlabel('Budget ($B)')\n",
    "\n",
    "#create the second axis\n",
    "ax1 = ax.twiny()\n",
    "\n",
    "#popularity plot\n",
    "df_director_p.plot(kind='barh', width=0.35, title=\"Popularity Scores and Adjusted Budget of Top Directors\", color='orange', label=\"Popularity\", ax=ax1, position=1);\n",
    "ax1.set_xlabel('Popularity')\n",
    "\n",
    "#add legend\n",
    "plt.legend()\n",
    "\n",
    "plt.ylim(None, 10)\n"
   ]
  },
  {
   "cell_type": "markdown",
   "metadata": {},
   "source": [
    "Plot showing the top directors and their popularity scores alongside the budget adjusted for inflation above the mean."
   ]
  },
  {
   "cell_type": "code",
   "execution_count": 305,
   "metadata": {
    "scrolled": true
   },
   "outputs": [
    {
     "data": {
      "text/plain": [
       "(-0.6, 10.0)"
      ]
     },
     "execution_count": 305,
     "metadata": {},
     "output_type": "execute_result"
    },
    {
     "data": {
      "image/png": "[encoded data removed]",
      "text/plain": [
       "<Figure size 1008x576 with 2 Axes>"
      ]
     },
     "metadata": {
      "needs_background": "light"
     },
     "output_type": "display_data"
    }
   ],
   "source": [
    "#plots and histograms - popularity and revenue adjusted\n",
    "\n",
    "#using groupby() with revenue_adj\n",
    "df_director_r = df_director_r.groupby('director')['revenue_adj'].sum().nlargest(10)\n",
    "\n",
    "#overlay popularity score with the adjusted revenue beside it\n",
    "fig, ax = plt.subplots(1, figsize=[14, 8]);\n",
    "\n",
    "#revenue plot\n",
    "df_director_r.plot(kind='barh', width=0.35, title=\"Popularity Scores and Adjusted Revenue of Top Directors\", label=\"Revenue\", ax=ax,position=0);\n",
    "ax.set_xlabel('Revenue ($B)')\n",
    "ax1 = ax.twiny()\n",
    "    \n",
    "#popularity plot\n",
    "df_director_p.plot(kind='barh', width=0.35, title=\" Top \", color='orange', label=\"Popularity\", ax=ax1, position=1);\n",
    "ax1.set_xlabel('Popularity')\n",
    "\n",
    "#add legend\n",
    "plt.legend()\n",
    "plt.ylim(None, 10)\n",
    "\n"
   ]
  },
  {
   "cell_type": "markdown",
   "metadata": {},
   "source": [
    "Plot showing the top directors and their popularity scores alongside the revenue adjusted for inflation above the mean.\n",
    "\n"
   ]
  },
  {
   "cell_type": "markdown",
   "metadata": {},
   "source": [
    "## Conclusions"
   ]
  },
  {
   "cell_type": "markdown",
   "metadata": {},
   "source": [
    "This analysis is limited in that there may be other factors at play that explain what makes a movie popular. In addition, the accuracy of our analysis may be incomplete due to missing data or something else.  Another factor is the queries that were executed may have been amiss because of the constraints chosen for the query which resulted in a smaller dataset.\n",
    "\n",
    "After thorough examination and visualizations, my conclusion regarding the first research question is there appears to be a weak positive correlation between the 'popularity' and 'budget_adj' variables. In the next plot I observe a weak positive correlation but the correlation looks stronger comparing popularity with the revenue adjusted variable. The findings suggest that the budget adjusted variable does not influence the popularity score as it appears there is no real relationship there, but it's possible that the revenue adjusted variable might have some influence although it is still considered weak. \n",
    "\n",
    "The bar plots in research question two shows the top directors popularity scores when compared with the budget_adj and revenue_adj variables. My conclusion upon observing these plots appears to align with the previous scatter plots, with weak correlations between popularity and budget adjusted, and stronger but still weak correlations between popularity and revenue adjusted.\n",
    "\n",
    "Scott Phelps, WGU\n"
   ]
  },
  {
   "cell_type": "markdown",
   "metadata": {},
   "source": [
    "References: https://stackoverflow.com, Udacity"
   ]
  }
 ],
 "metadata": {
  "kernelspec": {
   "display_name": "Python 3 (ipykernel)",
   "language": "python",
   "name": "python3"
  },
  "language_info": {
   "codemirror_mode": {
    "name": "ipython",
    "version": 3
   },
   "file_extension": ".py",
   "mimetype": "text/x-python",
   "name": "python",
   "nbconvert_exporter": "python",
   "pygments_lexer": "ipython3",
   "version": "3.9.7"
  }
 },
 "nbformat": 4,
 "nbformat_minor": 2
}
